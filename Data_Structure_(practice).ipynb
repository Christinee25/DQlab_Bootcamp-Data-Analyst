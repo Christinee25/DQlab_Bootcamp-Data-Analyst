{
  "nbformat": 4,
  "nbformat_minor": 0,
  "metadata": {
    "colab": {
      "provenance": [],
      "authorship_tag": "ABX9TyMG5phEMCiT6cWNUO2ArKSC",
      "include_colab_link": true
    },
    "kernelspec": {
      "name": "python3",
      "display_name": "Python 3"
    },
    "language_info": {
      "name": "python"
    }
  },
  "cells": [
    {
      "cell_type": "markdown",
      "metadata": {
        "id": "view-in-github",
        "colab_type": "text"
      },
      "source": [
        "<a href=\"https://colab.research.google.com/github/Christinee25/PythonDQlab_Sesi3/blob/main/Data_Structure_(practice).ipynb\" target=\"_parent\"><img src=\"https://colab.research.google.com/assets/colab-badge.svg\" alt=\"Open In Colab\"/></a>"
      ]
    },
    {
      "cell_type": "code",
      "execution_count": null,
      "metadata": {
        "id": "KzYjF6cQ8va8"
      },
      "outputs": [],
      "source": []
    },
    {
      "cell_type": "markdown",
      "source": [
        "# **Data Structure (List, Tuple, Dictionary, Set)**"
      ],
      "metadata": {
        "id": "cagTPq2z8xTN"
      }
    },
    {
      "cell_type": "markdown",
      "source": [
        "Setelah kita mengenal tipe data dasar Python, seperti integer, float, string, dan boolean, sekarang kita akan masuk ke tipe data yang merupakan gabungan objek-objek tersebut yang membentuk barisan (Sequence)\n",
        "\n",
        "Data Sequence pada python meliputi:\n",
        "1. List\n",
        "2. Tuple\n",
        "3. Dictionary\n",
        "4. Set"
      ],
      "metadata": {
        "id": "UXi8w2mp9AI0"
      }
    },
    {
      "cell_type": "markdown",
      "source": [
        "# **Bagian 1: List**"
      ],
      "metadata": {
        "id": "unhGqxCj-Ijn"
      }
    },
    {
      "cell_type": "markdown",
      "source": [
        "**List?**\n",
        "\n",
        "List adalah salah satu struktur data Python dimana kita bisa menggabungkan atau menyimpan barisan variabel pada python dengan sifat **mutable**\n",
        "\n",
        "Sifat-sifat List:\n",
        "1. Ditandai dengan kurung siku []\n",
        "2. Elemen pada list dapat dimodifikasi\n",
        "3. Dapat menerima duplicate value\n",
        "4. Terurut berdasarkan index list (bukan berdasarkan alfabetic atau numerik)"
      ],
      "metadata": {
        "id": "B6AvLx2w-aDr"
      }
    },
    {
      "cell_type": "markdown",
      "source": [],
      "metadata": {
        "id": "gZVouz0c_e6t"
      }
    },
    {
      "cell_type": "markdown",
      "source": [
        "## A. Membuat List"
      ],
      "metadata": {
        "id": "wUp3LKla_jYQ"
      }
    },
    {
      "cell_type": "code",
      "source": [
        "#List Kosong\n",
        "my_list = []\n",
        "\n",
        "#List seragam\n",
        "fullname = ['Angga', 'Maria', 'Beta']\n",
        "\n",
        "#List beragam\n",
        "message = ['nsks3829', 143, 'love you', 'True', [112,123]]\n"
      ],
      "metadata": {
        "colab": {
          "base_uri": "https://localhost:8080/"
        },
        "id": "n4QIRaVH_1YU",
        "outputId": "b391608c-9fb6-442d-e21d-24f3e95828c7"
      },
      "execution_count": null,
      "outputs": [
        {
          "output_type": "stream",
          "name": "stdout",
          "text": [
            "[]\n"
          ]
        }
      ]
    }
  ]
}